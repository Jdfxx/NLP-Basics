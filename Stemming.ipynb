{
 "cells": [
  {
   "cell_type": "code",
   "id": "initial_id",
   "metadata": {
    "collapsed": true,
    "ExecuteTime": {
     "end_time": "2025-03-11T17:43:03.621493Z",
     "start_time": "2025-03-11T17:43:03.617492Z"
    }
   },
   "source": [
    "from nltk import PorterStemmer\n",
    "\n",
    "ps = PorterStemmer()"
   ],
   "outputs": [],
   "execution_count": 10
  },
  {
   "metadata": {
    "ExecuteTime": {
     "end_time": "2025-03-11T17:43:03.628910Z",
     "start_time": "2025-03-11T17:43:03.625566Z"
    }
   },
   "cell_type": "code",
   "source": "connect_tokens = [\"connecting\", \"connected\", \"connectivity\", 'connect', 'connects']",
   "id": "fbdda0c36efa87fa",
   "outputs": [],
   "execution_count": 11
  },
  {
   "metadata": {
    "ExecuteTime": {
     "end_time": "2025-03-11T17:43:03.638450Z",
     "start_time": "2025-03-11T17:43:03.635421Z"
    }
   },
   "cell_type": "code",
   "source": [
    "for token in connect_tokens:\n",
    "    print(token, \":\", ps.stem(token))"
   ],
   "id": "efb63fc2b1d7c2a3",
   "outputs": [
    {
     "name": "stdout",
     "output_type": "stream",
     "text": [
      "connecting : connect\n",
      "connected : connect\n",
      "connectivity : connect\n",
      "connect : connect\n",
      "connects : connect\n"
     ]
    }
   ],
   "execution_count": 12
  },
  {
   "metadata": {
    "ExecuteTime": {
     "end_time": "2025-03-11T17:43:03.721794Z",
     "start_time": "2025-03-11T17:43:03.718795Z"
    }
   },
   "cell_type": "code",
   "source": "learn_tokens = ['learned', 'learning', 'learn', 'learns', 'learner', 'learners']",
   "id": "89b93ed804547aef",
   "outputs": [],
   "execution_count": 13
  },
  {
   "metadata": {
    "ExecuteTime": {
     "end_time": "2025-03-11T17:43:03.744573Z",
     "start_time": "2025-03-11T17:43:03.741626Z"
    }
   },
   "cell_type": "code",
   "source": [
    "for token in learn_tokens:\n",
    "    print(token, \":\", ps.stem(token))"
   ],
   "id": "8f1b30ab90b5e8a0",
   "outputs": [
    {
     "name": "stdout",
     "output_type": "stream",
     "text": [
      "learned : learn\n",
      "learning : learn\n",
      "learn : learn\n",
      "learns : learn\n",
      "learner : learner\n",
      "learners : learner\n"
     ]
    }
   ],
   "execution_count": 14
  },
  {
   "metadata": {
    "ExecuteTime": {
     "end_time": "2025-03-11T17:43:03.834153Z",
     "start_time": "2025-03-11T17:43:03.830300Z"
    }
   },
   "cell_type": "code",
   "source": [
    "likes_tokens = ['likes', 'better', 'worse']\n",
    "for token in likes_tokens:\n",
    "    print(token, \":\", ps.stem(token))"
   ],
   "id": "a490c9df24f63050",
   "outputs": [
    {
     "name": "stdout",
     "output_type": "stream",
     "text": [
      "likes : like\n",
      "better : better\n",
      "worse : wors\n"
     ]
    }
   ],
   "execution_count": 15
  }
 ],
 "metadata": {
  "kernelspec": {
   "display_name": "Python 3",
   "language": "python",
   "name": "python3"
  },
  "language_info": {
   "codemirror_mode": {
    "name": "ipython",
    "version": 2
   },
   "file_extension": ".py",
   "mimetype": "text/x-python",
   "name": "python",
   "nbconvert_exporter": "python",
   "pygments_lexer": "ipython2",
   "version": "2.7.6"
  }
 },
 "nbformat": 4,
 "nbformat_minor": 5
}
