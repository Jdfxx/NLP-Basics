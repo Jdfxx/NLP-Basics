{
 "cells": [
  {
   "cell_type": "code",
   "id": "initial_id",
   "metadata": {
    "collapsed": true,
    "ExecuteTime": {
     "end_time": "2025-03-12T10:16:23.807006Z",
     "start_time": "2025-03-12T10:16:23.803967Z"
    }
   },
   "source": [
    "import nltk\n",
    "from nltk import PorterStemmer\n",
    "\n",
    "ps = PorterStemmer()"
   ],
   "outputs": [],
   "execution_count": 8
  },
  {
   "metadata": {
    "ExecuteTime": {
     "end_time": "2025-03-12T10:16:44.059783Z",
     "start_time": "2025-03-12T10:16:44.055784Z"
    }
   },
   "cell_type": "code",
   "source": "connect_tokens = [\"connecting\", \"connected\", \"connectivity\", 'connect', 'connects']",
   "id": "fbdda0c36efa87fa",
   "outputs": [],
   "execution_count": 10
  },
  {
   "metadata": {
    "ExecuteTime": {
     "end_time": "2025-03-12T07:50:10.167298Z",
     "start_time": "2025-03-12T07:50:10.163298Z"
    }
   },
   "cell_type": "code",
   "source": [
    "for token in connect_tokens:\n",
    "    print(token, \":\", ps.stem(token))"
   ],
   "id": "efb63fc2b1d7c2a3",
   "outputs": [
    {
     "name": "stdout",
     "output_type": "stream",
     "text": [
      "connecting : connect\n",
      "connected : connect\n",
      "connectivity : connect\n",
      "connect : connect\n",
      "connects : connect\n"
     ]
    }
   ],
   "execution_count": 3
  },
  {
   "metadata": {
    "ExecuteTime": {
     "end_time": "2025-03-12T07:50:10.182191Z",
     "start_time": "2025-03-12T07:50:10.179321Z"
    }
   },
   "cell_type": "code",
   "source": "learn_tokens = ['learned', 'learning', 'learn', 'learns', 'learner', 'learners']",
   "id": "89b93ed804547aef",
   "outputs": [],
   "execution_count": 4
  },
  {
   "metadata": {
    "ExecuteTime": {
     "end_time": "2025-03-12T07:50:10.537944Z",
     "start_time": "2025-03-12T07:50:10.535429Z"
    }
   },
   "cell_type": "code",
   "source": [
    "for token in learn_tokens:\n",
    "    print(token, \":\", ps.stem(token))"
   ],
   "id": "8f1b30ab90b5e8a0",
   "outputs": [
    {
     "name": "stdout",
     "output_type": "stream",
     "text": [
      "learned : learn\n",
      "learning : learn\n",
      "learn : learn\n",
      "learns : learn\n",
      "learner : learner\n",
      "learners : learner\n"
     ]
    }
   ],
   "execution_count": 5
  },
  {
   "metadata": {
    "ExecuteTime": {
     "end_time": "2025-03-12T07:50:10.580528Z",
     "start_time": "2025-03-12T07:50:10.577462Z"
    }
   },
   "cell_type": "code",
   "source": [
    "likes_tokens = ['likes', 'better', 'worse']\n",
    "for token in likes_tokens:\n",
    "    print(token, \":\", ps.stem(token))"
   ],
   "id": "a490c9df24f63050",
   "outputs": [
    {
     "name": "stdout",
     "output_type": "stream",
     "text": [
      "likes : like\n",
      "better : better\n",
      "worse : wors\n"
     ]
    }
   ],
   "execution_count": 6
  },
  {
   "metadata": {},
   "cell_type": "markdown",
   "source": "Lemmatization\n",
   "id": "ac65b13483144809"
  },
  {
   "metadata": {
    "ExecuteTime": {
     "end_time": "2025-03-12T10:16:27.488981Z",
     "start_time": "2025-03-12T10:16:26.617800Z"
    }
   },
   "cell_type": "code",
   "source": [
    "nltk.download('wordnet')\n",
    "from nltk.stem import WordNetLemmatizer\n",
    "lemmatizer = WordNetLemmatizer()\n"
   ],
   "id": "2f74997c8c977d0e",
   "outputs": [
    {
     "name": "stderr",
     "output_type": "stream",
     "text": [
      "[nltk_data] Downloading package wordnet to\n",
      "[nltk_data]     C:\\Users\\Filip\\AppData\\Roaming\\nltk_data...\n"
     ]
    }
   ],
   "execution_count": 9
  },
  {
   "metadata": {
    "ExecuteTime": {
     "end_time": "2025-03-12T10:18:01.208951Z",
     "start_time": "2025-03-12T10:18:01.205930Z"
    }
   },
   "cell_type": "code",
   "source": [
    "lem_tokens = [lemmatizer.lemmatize(word) for word in connect_tokens]\n",
    "\n",
    "print(lem_tokens)\n",
    "\n"
   ],
   "id": "86feddc7f070af0f",
   "outputs": [
    {
     "name": "stdout",
     "output_type": "stream",
     "text": [
      "['connecting', 'connected', 'connectivity', 'connect', 'connects']\n"
     ]
    }
   ],
   "execution_count": 13
  },
  {
   "metadata": {
    "ExecuteTime": {
     "end_time": "2025-03-12T10:19:06.303804Z",
     "start_time": "2025-03-12T10:19:06.300855Z"
    }
   },
   "cell_type": "code",
   "source": [
    "lem_tokens = [lemmatizer.lemmatize(word) for word in learn_tokens]\n",
    "\n",
    "print(lem_tokens)"
   ],
   "id": "62e46111ba1f721b",
   "outputs": [
    {
     "name": "stdout",
     "output_type": "stream",
     "text": [
      "['learned', 'learning', 'learn', 'learns', 'learner', 'learner']\n"
     ]
    }
   ],
   "execution_count": 14
  }
 ],
 "metadata": {
  "kernelspec": {
   "display_name": "Python 3",
   "language": "python",
   "name": "python3"
  },
  "language_info": {
   "codemirror_mode": {
    "name": "ipython",
    "version": 2
   },
   "file_extension": ".py",
   "mimetype": "text/x-python",
   "name": "python",
   "nbconvert_exporter": "python",
   "pygments_lexer": "ipython2",
   "version": "2.7.6"
  }
 },
 "nbformat": 4,
 "nbformat_minor": 5
}
