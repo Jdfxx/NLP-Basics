{
 "cells": [
  {
   "cell_type": "code",
   "id": "initial_id",
   "metadata": {
    "collapsed": true,
    "ExecuteTime": {
     "end_time": "2025-03-11T12:56:12.249798Z",
     "start_time": "2025-03-11T12:56:12.245966Z"
    }
   },
   "source": [
    "sentence = 'My Dog is Arnold'\n",
    "print(sentence)"
   ],
   "outputs": [
    {
     "name": "stdout",
     "output_type": "stream",
     "text": [
      "My Dog is Arnold\n"
     ]
    }
   ],
   "execution_count": 4
  },
  {
   "metadata": {
    "ExecuteTime": {
     "end_time": "2025-03-11T12:56:32.380004Z",
     "start_time": "2025-03-11T12:56:32.376883Z"
    }
   },
   "cell_type": "code",
   "source": "print(sentence.lower())",
   "id": "48df9ae15295a102",
   "outputs": [
    {
     "name": "stdout",
     "output_type": "stream",
     "text": [
      "my dog is arnold\n"
     ]
    }
   ],
   "execution_count": 5
  },
  {
   "metadata": {
    "ExecuteTime": {
     "end_time": "2025-03-11T12:57:54.256251Z",
     "start_time": "2025-03-11T12:57:54.252250Z"
    }
   },
   "cell_type": "code",
   "source": [
    "list_of_sentences = ['My Dog is Arnold','My Dog is Arnold','My Dog is Arnold', 'My Dog is Arnold']\n",
    "list_lower = [sentence.lower() for sentence in list_of_sentences]\n",
    "print(list_lower)"
   ],
   "id": "4db44d7cb39b58d9",
   "outputs": [
    {
     "name": "stdout",
     "output_type": "stream",
     "text": [
      "['my dog is arnold', 'my dog is arnold', 'my dog is arnold', 'my dog is arnold']\n"
     ]
    }
   ],
   "execution_count": 6
  }
 ],
 "metadata": {
  "kernelspec": {
   "display_name": "Python 3",
   "language": "python",
   "name": "python3"
  },
  "language_info": {
   "codemirror_mode": {
    "name": "ipython",
    "version": 2
   },
   "file_extension": ".py",
   "mimetype": "text/x-python",
   "name": "python",
   "nbconvert_exporter": "python",
   "pygments_lexer": "ipython2",
   "version": "2.7.6"
  }
 },
 "nbformat": 4,
 "nbformat_minor": 5
}
