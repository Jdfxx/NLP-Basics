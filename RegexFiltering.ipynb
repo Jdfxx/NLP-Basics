{
 "cells": [
  {
   "cell_type": "code",
   "id": "initial_id",
   "metadata": {
    "collapsed": true,
    "ExecuteTime": {
     "end_time": "2025-03-11T17:06:44.434247Z",
     "start_time": "2025-03-11T17:06:44.431369Z"
    }
   },
   "source": "import re",
   "outputs": [],
   "execution_count": 5
  },
  {
   "metadata": {
    "ExecuteTime": {
     "end_time": "2025-03-11T17:04:43.261062Z",
     "start_time": "2025-03-11T17:04:43.257196Z"
    }
   },
   "cell_type": "code",
   "source": [
    "my_folder = \"c:\\desktop\\notes\"\n",
    "print(my_folder)"
   ],
   "id": "83a58853bb22c6ba",
   "outputs": [
    {
     "name": "stdout",
     "output_type": "stream",
     "text": [
      "c:\\desktop\\notes\n"
     ]
    }
   ],
   "execution_count": 3
  },
  {
   "metadata": {
    "ExecuteTime": {
     "end_time": "2025-03-11T17:07:02.164716Z",
     "start_time": "2025-03-11T17:07:02.161716Z"
    }
   },
   "cell_type": "code",
   "source": [
    "result = re.search(r\"c:\", my_folder)\n",
    "print(result)"
   ],
   "id": "e246aaf0c3be54a9",
   "outputs": [
    {
     "name": "stdout",
     "output_type": "stream",
     "text": [
      "<re.Match object; span=(0, 2), match='c:'>\n"
     ]
    }
   ],
   "execution_count": 8
  },
  {
   "metadata": {
    "ExecuteTime": {
     "end_time": "2025-03-11T17:08:15.134876Z",
     "start_time": "2025-03-11T17:08:15.131639Z"
    }
   },
   "cell_type": "code",
   "source": [
    "result = re.sub(\"c:\", \"d:\", my_folder)\n",
    "print(result)"
   ],
   "id": "afd1f7d537bdd163",
   "outputs": [
    {
     "name": "stdout",
     "output_type": "stream",
     "text": [
      "d:\\desktop\\notes\n"
     ]
    }
   ],
   "execution_count": 11
  },
  {
   "metadata": {
    "ExecuteTime": {
     "end_time": "2025-03-11T17:24:20.075061Z",
     "start_time": "2025-03-11T17:24:20.072154Z"
    }
   },
   "cell_type": "code",
   "source": [
    "customer_reviews = ['sam was a great help to me in the store',\n",
    " 'the cashier was very rude to me, I think her name was eleanor?',\n",
    " 'Amazing work from sadeen!',\n",
    " 'sarah was able to help me find the items i needed quickly',\n",
    " 'lucy is such a great addition to the team',\n",
    " 'great service from sara she found me what i wanted']"
   ],
   "id": "5d2a37096b42371c",
   "outputs": [],
   "execution_count": 27
  },
  {
   "metadata": {
    "ExecuteTime": {
     "end_time": "2025-03-11T17:11:21.683314Z",
     "start_time": "2025-03-11T17:11:21.680094Z"
    }
   },
   "cell_type": "code",
   "source": [
    "sarah_reviews = []\n",
    " = r\"sara?\"\n",
    "for review in customer_reviews:\n",
    "    if re.search(, review):\n",
    "        sarah_reviews.append(review)\n",
    "\n",
    "print(sarah_reviews)"
   ],
   "id": "a455408b8b52540d",
   "outputs": [
    {
     "name": "stdout",
     "output_type": "stream",
     "text": [
      "['sarah was able to help me find the items i needed quickly', 'great service from sara she found me what i wanted']\n"
     ]
    }
   ],
   "execution_count": 14
  },
  {
   "metadata": {
    "ExecuteTime": {
     "end_time": "2025-03-11T17:14:55.186631Z",
     "start_time": "2025-03-11T17:14:55.183369Z"
    }
   },
   "cell_type": "code",
   "source": [
    "a_reviews = []\n",
    "pattern_starts_with_a = r\"^[aA]\"\n",
    "for review in customer_reviews:\n",
    "    if re.search(pattern_starts_with_a, review):\n",
    "        a_reviews.append(review)\n",
    "print(a_reviews)"
   ],
   "id": "7fd3ccda6d0a6858",
   "outputs": [
    {
     "name": "stdout",
     "output_type": "stream",
     "text": [
      "['Amazing work from sadeen!']\n"
     ]
    }
   ],
   "execution_count": 18
  },
  {
   "metadata": {
    "ExecuteTime": {
     "end_time": "2025-03-11T17:18:07.363532Z",
     "start_time": "2025-03-11T17:18:07.360147Z"
    }
   },
   "cell_type": "code",
   "source": [
    "y_ending_reviews = []\n",
    "pattern_ends_with_y = r\"[yY]$\"\n",
    "for review in customer_reviews:\n",
    "    if re.search(pattern_ends_with_y, review):\n",
    "        y_ending_reviews.append(review)\n",
    "print(y_ending_reviews)"
   ],
   "id": "afe537131f703402",
   "outputs": [
    {
     "name": "stdout",
     "output_type": "stream",
     "text": [
      "['sarah was able to help me find the items i needed quickly']\n"
     ]
    }
   ],
   "execution_count": 23
  },
  {
   "metadata": {
    "ExecuteTime": {
     "end_time": "2025-03-11T17:19:42.603944Z",
     "start_time": "2025-03-11T17:19:42.600729Z"
    }
   },
   "cell_type": "code",
   "source": [
    "needed_wanted_reviews = []\n",
    "pattern_needed_wanted = r\"needed|wanted\"\n",
    "for review in customer_reviews:\n",
    "    if re.search(pattern_needed_wanted, review):\n",
    "        needed_wanted_reviews.append(review)\n",
    "print(needed_wanted_reviews)"
   ],
   "id": "3faa640f06986c3c",
   "outputs": [
    {
     "name": "stdout",
     "output_type": "stream",
     "text": [
      "['sarah was able to help me find the items i needed quickly', 'great service from sara she found me what i wanted']\n"
     ]
    }
   ],
   "execution_count": 24
  },
  {
   "metadata": {
    "ExecuteTime": {
     "end_time": "2025-03-11T17:24:23.383608Z",
     "start_time": "2025-03-11T17:24:23.380439Z"
    }
   },
   "cell_type": "code",
   "source": [
    "removed_punctuation_reviews = []\n",
    "pattern_removed_punctuation = r\"[^\\w\\s]\"\n",
    "for review in customer_reviews:\n",
    "    no_punct_review = re.sub(pattern_removed_punctuation, \"\", review)\n",
    "    removed_punctuation_reviews.append(no_punct_review)\n",
    "print(removed_punctuation_reviews)"
   ],
   "id": "4db78f57e8120e04",
   "outputs": [
    {
     "name": "stdout",
     "output_type": "stream",
     "text": [
      "['sam was a great help to me in the store', 'the cashier was very rude to me I think her name was eleanor', 'Amazing work from sadeen', 'sarah was able to help me find the items i needed quickly', 'lucy is such a great addition to the team', 'great service from sara she found me what i wanted']\n"
     ]
    }
   ],
   "execution_count": 28
  }
 ],
 "metadata": {
  "kernelspec": {
   "display_name": "Python 3",
   "language": "python",
   "name": "python3"
  },
  "language_info": {
   "codemirror_mode": {
    "name": "ipython",
    "version": 2
   },
   "file_extension": ".py",
   "mimetype": "text/x-python",
   "name": "python",
   "nbconvert_exporter": "python",
   "pygments_lexer": "ipython2",
   "version": "2.7.6"
  }
 },
 "nbformat": 4,
 "nbformat_minor": 5
}
