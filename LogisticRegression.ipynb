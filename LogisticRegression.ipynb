{
 "cells": [
  {
   "cell_type": "code",
   "id": "initial_id",
   "metadata": {
    "collapsed": true,
    "ExecuteTime": {
     "end_time": "2025-03-14T16:17:55.381440Z",
     "start_time": "2025-03-14T16:17:55.378281Z"
    }
   },
   "source": [
    "import pandas as pd\n",
    "from sklearn.feature_extraction.text import CountVectorizer\n",
    "from sklearn.model_selection import train_test_split\n",
    "from sklearn.linear_model import LogisticRegression\n",
    "from sklearn.metrics import accuracy_score, classification_report"
   ],
   "outputs": [],
   "execution_count": 30
  },
  {
   "metadata": {
    "ExecuteTime": {
     "end_time": "2025-03-14T16:17:55.399480Z",
     "start_time": "2025-03-14T16:17:55.396490Z"
    }
   },
   "cell_type": "code",
   "source": [
    "data = pd.DataFrame([(\"i love spending time with my friends and family\", \"positive\"),\n",
    "(\"that was the best meal i've ever had in my life\", \"positive\"),\n",
    "(\"i feel so grateful for everything i have in my life\", \"positive\"),\n",
    "(\"i received a promotion at work and i couldn't be happier\", \"positive\"),\n",
    "(\"watching a beautiful sunset always fills me with joy\", \"positive\"),\n",
    "(\"my partner surprised me with a thoughtful gift and it made my day\", \"positive\"),\n",
    "(\"i am so proud of my daughter for graduating with honors\", \"positive\"),\n",
    "(\"listening to my favorite music always puts me in a good mood\", \"positive\"),\n",
    "(\"i love the feeling of accomplishment after completing a challenging task\", \"positive\"),\n",
    "(\"i am excited to go on vacation next week\", \"positive\"),\n",
    "(\"i feel so overwhelmed with work and responsibilities\", \"negative\"),\n",
    "(\"the traffic during my commute is always so frustrating\", \"negative\"),\n",
    "(\"i received a parking ticket and it ruined my day\", \"negative\"),\n",
    "(\"i got into an argument with my partner and we're not speaking\", \"negative\"),\n",
    "(\"i have a headache and i feel terrible\", \"negative\"),\n",
    "(\"i received a rejection letter for the job i really wanted\", \"negative\"),\n",
    "(\"my car broke down and it's going to be expensive to fix\", \"negative\"),\n",
    "(\"i'm feeling sad because i miss my friends who live far away\", \"negative\"),\n",
    "(\"i'm frustrated because i can't seem to make progress on my project\", \"negative\"),\n",
    "(\"i'm disappointed because my team lost the game\", \"negative\")], columns=[\"text\", \"sentiment\"])"
   ],
   "id": "b3370fc52aa9c3b3",
   "outputs": [],
   "execution_count": 31
  },
  {
   "metadata": {
    "ExecuteTime": {
     "end_time": "2025-03-14T16:17:55.406978Z",
     "start_time": "2025-03-14T16:17:55.402990Z"
    }
   },
   "cell_type": "code",
   "source": [
    "data = data.sample(frac=1).reset_index(drop=True)\n",
    "x = data['text']\n",
    "y = data['sentiment']"
   ],
   "id": "7c3b88c4be8a940",
   "outputs": [],
   "execution_count": 32
  },
  {
   "metadata": {
    "ExecuteTime": {
     "end_time": "2025-03-14T16:17:55.421385Z",
     "start_time": "2025-03-14T16:17:55.419470Z"
    }
   },
   "cell_type": "code",
   "source": "count_vector = CountVectorizer()",
   "id": "893ff8e974f1f42d",
   "outputs": [],
   "execution_count": 33
  },
  {
   "metadata": {
    "ExecuteTime": {
     "end_time": "2025-03-14T16:17:55.446712Z",
     "start_time": "2025-03-14T16:17:55.443194Z"
    }
   },
   "cell_type": "code",
   "source": "count_vector_fit = count_vector.fit_transform(x)",
   "id": "a8903b7f9a92da58",
   "outputs": [],
   "execution_count": 34
  },
  {
   "metadata": {
    "ExecuteTime": {
     "end_time": "2025-03-14T16:17:55.456954Z",
     "start_time": "2025-03-14T16:17:55.453223Z"
    }
   },
   "cell_type": "code",
   "source": "bag_of_words = pd.DataFrame(count_vector_fit.toarray(), columns = count_vector.get_feature_names_out())",
   "id": "1472ac30a7ab4edf",
   "outputs": [],
   "execution_count": 35
  },
  {
   "metadata": {
    "ExecuteTime": {
     "end_time": "2025-03-14T16:17:55.483643Z",
     "start_time": "2025-03-14T16:17:55.479132Z"
    }
   },
   "cell_type": "code",
   "source": "x_train, x_test, y_train, y_test = train_test_split(bag_of_words, y, test_size=0.3, random_state=7)",
   "id": "8af2d7d3fe01dd96",
   "outputs": [],
   "execution_count": 36
  },
  {
   "metadata": {
    "ExecuteTime": {
     "end_time": "2025-03-14T16:17:55.492254Z",
     "start_time": "2025-03-14T16:17:55.486648Z"
    }
   },
   "cell_type": "code",
   "source": "lr = LogisticRegression(random_state=1).fit(x_train, y_train)",
   "id": "2e3ebdd8f54c74c8",
   "outputs": [],
   "execution_count": 37
  },
  {
   "metadata": {
    "ExecuteTime": {
     "end_time": "2025-03-14T16:17:55.511316Z",
     "start_time": "2025-03-14T16:17:55.505315Z"
    }
   },
   "cell_type": "code",
   "source": [
    "y_pred_lr = lr.predict(x_test)\n",
    "\n",
    "accuracy = accuracy_score(y_test, y_pred_lr)\n",
    "accuracy"
   ],
   "id": "dc5e8f0a5cd82fea",
   "outputs": [
    {
     "data": {
      "text/plain": [
       "0.16666666666666666"
      ]
     },
     "execution_count": 38,
     "metadata": {},
     "output_type": "execute_result"
    }
   ],
   "execution_count": 38
  },
  {
   "metadata": {
    "ExecuteTime": {
     "end_time": "2025-03-14T16:17:55.589082Z",
     "start_time": "2025-03-14T16:17:55.581716Z"
    }
   },
   "cell_type": "code",
   "source": "print(classification_report(y_test, y_pred_lr, zero_division=0))",
   "id": "9d7ae2b4606a1e05",
   "outputs": [
    {
     "name": "stdout",
     "output_type": "stream",
     "text": [
      "              precision    recall  f1-score   support\n",
      "\n",
      "    negative       0.00      0.00      0.00         5\n",
      "    positive       0.17      1.00      0.29         1\n",
      "\n",
      "    accuracy                           0.17         6\n",
      "   macro avg       0.08      0.50      0.14         6\n",
      "weighted avg       0.03      0.17      0.05         6\n",
      "\n"
     ]
    }
   ],
   "execution_count": 39
  },
  {
   "metadata": {
    "ExecuteTime": {
     "end_time": "2025-03-14T16:17:55.676827Z",
     "start_time": "2025-03-14T16:17:55.671479Z"
    }
   },
   "cell_type": "code",
   "source": [
    "from sklearn.naive_bayes import MultinomialNB\n",
    "nb = MultinomialNB().fit(x_train, y_train)"
   ],
   "id": "151b2b158562c907",
   "outputs": [],
   "execution_count": 40
  },
  {
   "metadata": {
    "ExecuteTime": {
     "end_time": "2025-03-14T16:17:55.703649Z",
     "start_time": "2025-03-14T16:17:55.697627Z"
    }
   },
   "cell_type": "code",
   "source": [
    "y_pred_nb = nb.predict(x_test)\n",
    "accuracy_score(y_pred_nb, y_test)"
   ],
   "id": "472c3c218453d8fb",
   "outputs": [
    {
     "data": {
      "text/plain": [
       "0.16666666666666666"
      ]
     },
     "execution_count": 41,
     "metadata": {},
     "output_type": "execute_result"
    }
   ],
   "execution_count": 41
  },
  {
   "metadata": {
    "ExecuteTime": {
     "end_time": "2025-03-14T16:17:55.777900Z",
     "start_time": "2025-03-14T16:17:55.768269Z"
    }
   },
   "cell_type": "code",
   "source": "print(classification_report(y_test, y_pred_nb, zero_division=0))",
   "id": "525bc8eed8d5197",
   "outputs": [
    {
     "name": "stdout",
     "output_type": "stream",
     "text": [
      "              precision    recall  f1-score   support\n",
      "\n",
      "    negative       0.50      0.20      0.29         5\n",
      "    positive       0.00      0.00      0.00         1\n",
      "\n",
      "    accuracy                           0.17         6\n",
      "   macro avg       0.25      0.10      0.14         6\n",
      "weighted avg       0.42      0.17      0.24         6\n",
      "\n"
     ]
    }
   ],
   "execution_count": 42
  },
  {
   "metadata": {
    "ExecuteTime": {
     "end_time": "2025-03-14T16:17:55.831460Z",
     "start_time": "2025-03-14T16:17:55.828460Z"
    }
   },
   "cell_type": "code",
   "source": "from sklearn.linear_model import SGDClassifier",
   "id": "be94e12b710455a3",
   "outputs": [],
   "execution_count": 43
  },
  {
   "metadata": {
    "ExecuteTime": {
     "end_time": "2025-03-14T16:17:55.863751Z",
     "start_time": "2025-03-14T16:17:55.858247Z"
    }
   },
   "cell_type": "code",
   "source": "svm = SGDClassifier().fit(x_train, y_train)",
   "id": "4273255232b469de",
   "outputs": [],
   "execution_count": 44
  },
  {
   "metadata": {
    "ExecuteTime": {
     "end_time": "2025-03-14T16:17:55.886102Z",
     "start_time": "2025-03-14T16:17:55.880603Z"
    }
   },
   "cell_type": "code",
   "source": [
    "y_pred_svm = svm.predict(x_test)\n",
    "accuracy_score(y_pred_svm, y_test)"
   ],
   "id": "814499dc815efd6",
   "outputs": [
    {
     "data": {
      "text/plain": [
       "0.3333333333333333"
      ]
     },
     "execution_count": 45,
     "metadata": {},
     "output_type": "execute_result"
    }
   ],
   "execution_count": 45
  }
 ],
 "metadata": {
  "kernelspec": {
   "display_name": "Python 3",
   "language": "python",
   "name": "python3"
  },
  "language_info": {
   "codemirror_mode": {
    "name": "ipython",
    "version": 2
   },
   "file_extension": ".py",
   "mimetype": "text/x-python",
   "name": "python",
   "nbconvert_exporter": "python",
   "pygments_lexer": "ipython2",
   "version": "2.7.6"
  }
 },
 "nbformat": 4,
 "nbformat_minor": 5
}
