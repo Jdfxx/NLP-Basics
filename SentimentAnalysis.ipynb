{
 "cells": [
  {
   "cell_type": "markdown",
   "id": "57129b27e7608d28",
   "metadata": {},
   "source": [
    "Rule-based"
   ]
  },
  {
   "cell_type": "code",
   "id": "initial_id",
   "metadata": {
    "ExecuteTime": {
     "end_time": "2025-03-12T22:02:17.481299Z",
     "start_time": "2025-03-12T22:02:17.464795Z"
    }
   },
   "source": [
    "from unittest.mock import sentinel\n",
    "\n",
    "from textblob import TextBlob"
   ],
   "outputs": [],
   "execution_count": 37
  },
  {
   "cell_type": "code",
   "id": "7ef00865b8f6c785",
   "metadata": {
    "ExecuteTime": {
     "end_time": "2025-03-12T22:02:17.487786Z",
     "start_time": "2025-03-12T22:02:17.485324Z"
    }
   },
   "source": [
    "sentence_1 = \"i had a great time at the movie it was really funny\"\n",
    "sentence_2 = \"i had a great time at the movie but the parking was terrible\"\n",
    "sentence_3 = \"i had a great time at the movie but the parking wasn't great\"\n",
    "sentence_4 = \"i went to see a movie\""
   ],
   "outputs": [],
   "execution_count": 38
  },
  {
   "cell_type": "code",
   "id": "91830e9b4b7ae36e",
   "metadata": {
    "ExecuteTime": {
     "end_time": "2025-03-12T22:02:17.498785Z",
     "start_time": "2025-03-12T22:02:17.495812Z"
    }
   },
   "source": [
    "print(TextBlob(sentence_1).sentiment)"
   ],
   "outputs": [
    {
     "name": "stdout",
     "output_type": "stream",
     "text": [
      "Sentiment(polarity=0.525, subjectivity=0.875)\n"
     ]
    }
   ],
   "execution_count": 39
  },
  {
   "cell_type": "code",
   "id": "4170b75ca82228af",
   "metadata": {
    "ExecuteTime": {
     "end_time": "2025-03-12T22:02:17.524862Z",
     "start_time": "2025-03-12T22:02:17.520901Z"
    }
   },
   "source": [
    "print(TextBlob(sentence_2).sentiment)"
   ],
   "outputs": [
    {
     "name": "stdout",
     "output_type": "stream",
     "text": [
      "Sentiment(polarity=-0.09999999999999998, subjectivity=0.875)\n"
     ]
    }
   ],
   "execution_count": 40
  },
  {
   "cell_type": "code",
   "id": "e566c5035f2a9a6c",
   "metadata": {
    "ExecuteTime": {
     "end_time": "2025-03-12T22:02:17.553067Z",
     "start_time": "2025-03-12T22:02:17.549560Z"
    }
   },
   "source": [
    "print(TextBlob(sentence_3).sentiment)"
   ],
   "outputs": [
    {
     "name": "stdout",
     "output_type": "stream",
     "text": [
      "Sentiment(polarity=0.8, subjectivity=0.75)\n"
     ]
    }
   ],
   "execution_count": 41
  },
  {
   "cell_type": "code",
   "id": "33a9d990251910b9",
   "metadata": {
    "ExecuteTime": {
     "end_time": "2025-03-12T22:02:17.576710Z",
     "start_time": "2025-03-12T22:02:17.573857Z"
    }
   },
   "source": [
    "print(TextBlob(sentence_4).sentiment)"
   ],
   "outputs": [
    {
     "name": "stdout",
     "output_type": "stream",
     "text": [
      "Sentiment(polarity=0.0, subjectivity=0.0)\n"
     ]
    }
   ],
   "execution_count": 42
  },
  {
   "cell_type": "markdown",
   "id": "4e1a503df7779f18",
   "metadata": {},
   "source": [
    "Vader"
   ]
  },
  {
   "cell_type": "code",
   "id": "450864c517c1804d",
   "metadata": {
    "ExecuteTime": {
     "end_time": "2025-03-12T22:02:17.597333Z",
     "start_time": "2025-03-12T22:02:17.593969Z"
    }
   },
   "source": [
    "from vaderSentiment.vaderSentiment import SentimentIntensityAnalyzer"
   ],
   "outputs": [],
   "execution_count": 43
  },
  {
   "cell_type": "code",
   "id": "20b2f046129d6b0d",
   "metadata": {
    "ExecuteTime": {
     "end_time": "2025-03-12T22:02:17.622792Z",
     "start_time": "2025-03-12T22:02:17.611669Z"
    }
   },
   "source": [
    "vader_sid = SentimentIntensityAnalyzer()"
   ],
   "outputs": [],
   "execution_count": 44
  },
  {
   "cell_type": "code",
   "id": "386f4bc29e64bc6d",
   "metadata": {
    "ExecuteTime": {
     "end_time": "2025-03-12T22:02:17.632212Z",
     "start_time": "2025-03-12T22:02:17.628797Z"
    }
   },
   "source": [
    "print(vader_sid.polarity_scores(sentence_1))"
   ],
   "outputs": [
    {
     "name": "stdout",
     "output_type": "stream",
     "text": [
      "{'neg': 0.0, 'neu': 0.578, 'pos': 0.422, 'compound': 0.807}\n"
     ]
    }
   ],
   "execution_count": 45
  },
  {
   "cell_type": "code",
   "id": "41d7f1055a2c873b",
   "metadata": {
    "ExecuteTime": {
     "end_time": "2025-03-12T22:02:17.651014Z",
     "start_time": "2025-03-12T22:02:17.647562Z"
    }
   },
   "source": [
    "print(vader_sid.polarity_scores(sentence_2))"
   ],
   "outputs": [
    {
     "name": "stdout",
     "output_type": "stream",
     "text": [
      "{'neg': 0.234, 'neu': 0.621, 'pos': 0.144, 'compound': -0.3818}\n"
     ]
    }
   ],
   "execution_count": 46
  },
  {
   "cell_type": "code",
   "id": "6388514cd4cd7fdf",
   "metadata": {
    "ExecuteTime": {
     "end_time": "2025-03-12T22:02:17.678001Z",
     "start_time": "2025-03-12T22:02:17.673933Z"
    }
   },
   "source": [
    "print(vader_sid.polarity_scores(sentence_3))"
   ],
   "outputs": [
    {
     "name": "stdout",
     "output_type": "stream",
     "text": [
      "{'neg': 0.247, 'neu': 0.611, 'pos': 0.142, 'compound': -0.4387}\n"
     ]
    }
   ],
   "execution_count": 47
  },
  {
   "cell_type": "code",
   "id": "7097ada580d6cd90",
   "metadata": {
    "ExecuteTime": {
     "end_time": "2025-03-12T22:02:17.700383Z",
     "start_time": "2025-03-12T22:02:17.697285Z"
    }
   },
   "source": [
    "print(vader_sid.polarity_scores(sentence_4))"
   ],
   "outputs": [
    {
     "name": "stdout",
     "output_type": "stream",
     "text": [
      "{'neg': 0.0, 'neu': 1.0, 'pos': 0.0, 'compound': 0.0}\n"
     ]
    }
   ],
   "execution_count": 48
  },
  {
   "cell_type": "markdown",
   "id": "8b09fc7fbfeaea8b",
   "metadata": {},
   "source": [
    "Pre-trainer transformer models"
   ]
  },
  {
   "cell_type": "code",
   "id": "c26900cce7ea87ab",
   "metadata": {
    "ExecuteTime": {
     "end_time": "2025-03-12T22:07:33.056878Z",
     "start_time": "2025-03-12T22:07:33.053856Z"
    }
   },
   "source": [
    "import transformers\n",
    "import tensorflow as tf\n",
    "from transformers import pipeline"
   ],
   "outputs": [],
   "execution_count": 63
  },
  {
   "cell_type": "code",
   "id": "df1ee3de708c9e30",
   "metadata": {
    "ExecuteTime": {
     "end_time": "2025-03-12T22:07:34.998339Z",
     "start_time": "2025-03-12T22:07:34.820052Z"
    }
   },
   "source": "sentinel.pipeline = pipeline(\"sentiment-analysis\", model='finiteautomata/bertweet-base-sentiment-analysis')",
   "outputs": [
    {
     "ename": "RuntimeError",
     "evalue": "At least one of TensorFlow 2.0 or PyTorch should be installed. To install TensorFlow 2.0, read the instructions at https://www.tensorflow.org/install/ To install PyTorch, read the instructions at https://pytorch.org/.",
     "output_type": "error",
     "traceback": [
      "\u001B[31m---------------------------------------------------------------------------\u001B[39m",
      "\u001B[31mRuntimeError\u001B[39m                              Traceback (most recent call last)",
      "\u001B[36mCell\u001B[39m\u001B[36m \u001B[39m\u001B[32mIn[65]\u001B[39m\u001B[32m, line 1\u001B[39m\n\u001B[32m----> \u001B[39m\u001B[32m1\u001B[39m sentinel.pipeline = \u001B[43mpipeline\u001B[49m\u001B[43m(\u001B[49m\u001B[33;43m\"\u001B[39;49m\u001B[33;43msentiment-analysis\u001B[39;49m\u001B[33;43m\"\u001B[39;49m\u001B[43m,\u001B[49m\u001B[43m \u001B[49m\u001B[43mmodel\u001B[49m\u001B[43m=\u001B[49m\u001B[33;43m'\u001B[39;49m\u001B[33;43mfiniteautomata/bertweet-base-sentiment-analysis\u001B[39;49m\u001B[33;43m'\u001B[39;49m\u001B[43m)\u001B[49m\n",
      "\u001B[36mFile \u001B[39m\u001B[32mC:\\Dev\\Training projects\\AI\\NLP365\\.venv\\Lib\\site-packages\\transformers\\pipelines\\__init__.py:940\u001B[39m, in \u001B[36mpipeline\u001B[39m\u001B[34m(task, model, config, tokenizer, feature_extractor, image_processor, processor, framework, revision, use_fast, token, device, device_map, torch_dtype, trust_remote_code, model_kwargs, pipeline_class, **kwargs)\u001B[39m\n\u001B[32m    938\u001B[39m \u001B[38;5;28;01mif\u001B[39;00m \u001B[38;5;28misinstance\u001B[39m(model, \u001B[38;5;28mstr\u001B[39m) \u001B[38;5;129;01mor\u001B[39;00m framework \u001B[38;5;129;01mis\u001B[39;00m \u001B[38;5;28;01mNone\u001B[39;00m:\n\u001B[32m    939\u001B[39m     model_classes = {\u001B[33m\"\u001B[39m\u001B[33mtf\u001B[39m\u001B[33m\"\u001B[39m: targeted_task[\u001B[33m\"\u001B[39m\u001B[33mtf\u001B[39m\u001B[33m\"\u001B[39m], \u001B[33m\"\u001B[39m\u001B[33mpt\u001B[39m\u001B[33m\"\u001B[39m: targeted_task[\u001B[33m\"\u001B[39m\u001B[33mpt\u001B[39m\u001B[33m\"\u001B[39m]}\n\u001B[32m--> \u001B[39m\u001B[32m940\u001B[39m     framework, model = \u001B[43minfer_framework_load_model\u001B[49m\u001B[43m(\u001B[49m\n\u001B[32m    941\u001B[39m \u001B[43m        \u001B[49m\u001B[43mmodel\u001B[49m\u001B[43m,\u001B[49m\n\u001B[32m    942\u001B[39m \u001B[43m        \u001B[49m\u001B[43mmodel_classes\u001B[49m\u001B[43m=\u001B[49m\u001B[43mmodel_classes\u001B[49m\u001B[43m,\u001B[49m\n\u001B[32m    943\u001B[39m \u001B[43m        \u001B[49m\u001B[43mconfig\u001B[49m\u001B[43m=\u001B[49m\u001B[43mconfig\u001B[49m\u001B[43m,\u001B[49m\n\u001B[32m    944\u001B[39m \u001B[43m        \u001B[49m\u001B[43mframework\u001B[49m\u001B[43m=\u001B[49m\u001B[43mframework\u001B[49m\u001B[43m,\u001B[49m\n\u001B[32m    945\u001B[39m \u001B[43m        \u001B[49m\u001B[43mtask\u001B[49m\u001B[43m=\u001B[49m\u001B[43mtask\u001B[49m\u001B[43m,\u001B[49m\n\u001B[32m    946\u001B[39m \u001B[43m        \u001B[49m\u001B[43m*\u001B[49m\u001B[43m*\u001B[49m\u001B[43mhub_kwargs\u001B[49m\u001B[43m,\u001B[49m\n\u001B[32m    947\u001B[39m \u001B[43m        \u001B[49m\u001B[43m*\u001B[49m\u001B[43m*\u001B[49m\u001B[43mmodel_kwargs\u001B[49m\u001B[43m,\u001B[49m\n\u001B[32m    948\u001B[39m \u001B[43m    \u001B[49m\u001B[43m)\u001B[49m\n\u001B[32m    950\u001B[39m model_config = model.config\n\u001B[32m    951\u001B[39m hub_kwargs[\u001B[33m\"\u001B[39m\u001B[33m_commit_hash\u001B[39m\u001B[33m\"\u001B[39m] = model.config._commit_hash\n",
      "\u001B[36mFile \u001B[39m\u001B[32mC:\\Dev\\Training projects\\AI\\NLP365\\.venv\\Lib\\site-packages\\transformers\\pipelines\\base.py:241\u001B[39m, in \u001B[36minfer_framework_load_model\u001B[39m\u001B[34m(model, config, model_classes, task, framework, **model_kwargs)\u001B[39m\n\u001B[32m    215\u001B[39m \u001B[38;5;250m\u001B[39m\u001B[33;03m\"\"\"\u001B[39;00m\n\u001B[32m    216\u001B[39m \u001B[33;03mSelect framework (TensorFlow or PyTorch) to use from the `model` passed. Returns a tuple (framework, model).\u001B[39;00m\n\u001B[32m    217\u001B[39m \n\u001B[32m   (...)\u001B[39m\u001B[32m    238\u001B[39m \u001B[33;03m    `Tuple`: A tuple framework, model.\u001B[39;00m\n\u001B[32m    239\u001B[39m \u001B[33;03m\"\"\"\u001B[39;00m\n\u001B[32m    240\u001B[39m \u001B[38;5;28;01mif\u001B[39;00m \u001B[38;5;129;01mnot\u001B[39;00m is_tf_available() \u001B[38;5;129;01mand\u001B[39;00m \u001B[38;5;129;01mnot\u001B[39;00m is_torch_available():\n\u001B[32m--> \u001B[39m\u001B[32m241\u001B[39m     \u001B[38;5;28;01mraise\u001B[39;00m \u001B[38;5;167;01mRuntimeError\u001B[39;00m(\n\u001B[32m    242\u001B[39m         \u001B[33m\"\u001B[39m\u001B[33mAt least one of TensorFlow 2.0 or PyTorch should be installed. \u001B[39m\u001B[33m\"\u001B[39m\n\u001B[32m    243\u001B[39m         \u001B[33m\"\u001B[39m\u001B[33mTo install TensorFlow 2.0, read the instructions at https://www.tensorflow.org/install/ \u001B[39m\u001B[33m\"\u001B[39m\n\u001B[32m    244\u001B[39m         \u001B[33m\"\u001B[39m\u001B[33mTo install PyTorch, read the instructions at https://pytorch.org/.\u001B[39m\u001B[33m\"\u001B[39m\n\u001B[32m    245\u001B[39m     )\n\u001B[32m    246\u001B[39m \u001B[38;5;28;01mif\u001B[39;00m \u001B[38;5;28misinstance\u001B[39m(model, \u001B[38;5;28mstr\u001B[39m):\n\u001B[32m    247\u001B[39m     model_kwargs[\u001B[33m\"\u001B[39m\u001B[33m_from_pipeline\u001B[39m\u001B[33m\"\u001B[39m] = task\n",
      "\u001B[31mRuntimeError\u001B[39m: At least one of TensorFlow 2.0 or PyTorch should be installed. To install TensorFlow 2.0, read the instructions at https://www.tensorflow.org/install/ To install PyTorch, read the instructions at https://pytorch.org/."
     ]
    }
   ],
   "execution_count": 65
  },
  {
   "cell_type": "code",
   "id": "b08ba0a9-2e9e-4a51-9cc8-41ee0d927b4d",
   "metadata": {
    "ExecuteTime": {
     "end_time": "2025-03-12T22:07:42.392445Z",
     "start_time": "2025-03-12T22:07:42.375445Z"
    }
   },
   "source": [
    "print(sentence_1)\n",
    "sentinel.pipeline(sentence_1)"
   ],
   "outputs": [
    {
     "name": "stdout",
     "output_type": "stream",
     "text": [
      "i had a great time at the movie it was really funny\n"
     ]
    },
    {
     "ename": "TypeError",
     "evalue": "'_SentinelObject' object is not callable",
     "output_type": "error",
     "traceback": [
      "\u001B[31m---------------------------------------------------------------------------\u001B[39m",
      "\u001B[31mTypeError\u001B[39m                                 Traceback (most recent call last)",
      "\u001B[36mCell\u001B[39m\u001B[36m \u001B[39m\u001B[32mIn[66]\u001B[39m\u001B[32m, line 2\u001B[39m\n\u001B[32m      1\u001B[39m \u001B[38;5;28mprint\u001B[39m(sentence_1)\n\u001B[32m----> \u001B[39m\u001B[32m2\u001B[39m \u001B[43msentinel\u001B[49m\u001B[43m.\u001B[49m\u001B[43mpipeline\u001B[49m\u001B[43m(\u001B[49m\u001B[43msentence_1\u001B[49m\u001B[43m)\u001B[49m\n",
      "\u001B[31mTypeError\u001B[39m: '_SentinelObject' object is not callable"
     ]
    }
   ],
   "execution_count": 66
  }
 ],
 "metadata": {
  "kernelspec": {
   "display_name": "Python 3 (ipykernel)",
   "language": "python",
   "name": "python3"
  },
  "language_info": {
   "codemirror_mode": {
    "name": "ipython",
    "version": 3
   },
   "file_extension": ".py",
   "mimetype": "text/x-python",
   "name": "python",
   "nbconvert_exporter": "python",
   "pygments_lexer": "ipython3",
   "version": "3.12.8"
  }
 },
 "nbformat": 4,
 "nbformat_minor": 5
}
