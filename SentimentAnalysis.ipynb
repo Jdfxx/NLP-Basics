{
 "cells": [
  {
   "metadata": {},
   "cell_type": "markdown",
   "source": "Rule-based",
   "id": "57129b27e7608d28"
  },
  {
   "metadata": {
    "collapsed": true,
    "ExecuteTime": {
     "end_time": "2025-03-12T20:56:45.241956Z",
     "start_time": "2025-03-12T20:56:44.399967Z"
    }
   },
   "cell_type": "code",
   "outputs": [],
   "execution_count": 2,
   "source": "from textblob import TextBlob",
   "id": "initial_id"
  },
  {
   "metadata": {
    "ExecuteTime": {
     "end_time": "2025-03-12T20:56:46.561245Z",
     "start_time": "2025-03-12T20:56:46.558322Z"
    }
   },
   "cell_type": "code",
   "outputs": [],
   "execution_count": 3,
   "source": [
    "sentence_1 = \"i had a great time at the movie it was really funny\"\n",
    "sentence_2 = \"i had a great time at the movie but the parking was terrible\"\n",
    "sentence_3 = \"i had a great time at the movie but the parking wasn't great\"\n",
    "sentence_4 = \"i went to see a movie\""
   ],
   "id": "7ef00865b8f6c785"
  },
  {
   "metadata": {
    "ExecuteTime": {
     "end_time": "2025-03-12T21:02:35.469210Z",
     "start_time": "2025-03-12T21:02:35.465192Z"
    }
   },
   "cell_type": "code",
   "source": "print(TextBlob(sentence_1).sentiment)",
   "id": "91830e9b4b7ae36e",
   "outputs": [
    {
     "name": "stdout",
     "output_type": "stream",
     "text": [
      "Sentiment(polarity=0.525, subjectivity=0.875)\n"
     ]
    }
   ],
   "execution_count": 14
  },
  {
   "metadata": {
    "ExecuteTime": {
     "end_time": "2025-03-12T21:02:38.858163Z",
     "start_time": "2025-03-12T21:02:38.854770Z"
    }
   },
   "cell_type": "code",
   "source": "print(TextBlob(sentence_2).sentiment)",
   "id": "4170b75ca82228af",
   "outputs": [
    {
     "name": "stdout",
     "output_type": "stream",
     "text": [
      "Sentiment(polarity=-0.09999999999999998, subjectivity=0.875)\n"
     ]
    }
   ],
   "execution_count": 15
  },
  {
   "metadata": {
    "ExecuteTime": {
     "end_time": "2025-03-12T21:02:40.307997Z",
     "start_time": "2025-03-12T21:02:40.303989Z"
    }
   },
   "cell_type": "code",
   "source": "print(TextBlob(sentence_3).sentiment)",
   "id": "e566c5035f2a9a6c",
   "outputs": [
    {
     "name": "stdout",
     "output_type": "stream",
     "text": [
      "Sentiment(polarity=0.8, subjectivity=0.75)\n"
     ]
    }
   ],
   "execution_count": 16
  },
  {
   "metadata": {
    "ExecuteTime": {
     "end_time": "2025-03-12T21:02:41.723390Z",
     "start_time": "2025-03-12T21:02:41.720368Z"
    }
   },
   "cell_type": "code",
   "source": "print(TextBlob(sentence_4).sentiment)",
   "id": "33a9d990251910b9",
   "outputs": [
    {
     "name": "stdout",
     "output_type": "stream",
     "text": [
      "Sentiment(polarity=0.0, subjectivity=0.0)\n"
     ]
    }
   ],
   "execution_count": 17
  },
  {
   "metadata": {},
   "cell_type": "markdown",
   "source": "Vader",
   "id": "4e1a503df7779f18"
  },
  {
   "metadata": {
    "ExecuteTime": {
     "end_time": "2025-03-12T21:00:21.470218Z",
     "start_time": "2025-03-12T21:00:21.463965Z"
    }
   },
   "cell_type": "code",
   "source": "from vaderSentiment.vaderSentiment import SentimentIntensityAnalyzer",
   "id": "450864c517c1804d",
   "outputs": [],
   "execution_count": 8
  },
  {
   "metadata": {
    "ExecuteTime": {
     "end_time": "2025-03-12T21:00:22.868678Z",
     "start_time": "2025-03-12T21:00:22.860443Z"
    }
   },
   "cell_type": "code",
   "source": "vader_sid = SentimentIntensityAnalyzer()",
   "id": "20b2f046129d6b0d",
   "outputs": [],
   "execution_count": 9
  },
  {
   "metadata": {
    "ExecuteTime": {
     "end_time": "2025-03-12T21:00:23.930562Z",
     "start_time": "2025-03-12T21:00:23.926508Z"
    }
   },
   "cell_type": "code",
   "source": "print(vader_sid.polarity_scores(sentence_1))",
   "id": "386f4bc29e64bc6d",
   "outputs": [
    {
     "name": "stdout",
     "output_type": "stream",
     "text": [
      "{'neg': 0.0, 'neu': 0.578, 'pos': 0.422, 'compound': 0.807}\n"
     ]
    }
   ],
   "execution_count": 10
  },
  {
   "metadata": {
    "ExecuteTime": {
     "end_time": "2025-03-12T21:00:40.072373Z",
     "start_time": "2025-03-12T21:00:40.068135Z"
    }
   },
   "cell_type": "code",
   "source": "print(vader_sid.polarity_scores(sentence_2))",
   "id": "41d7f1055a2c873b",
   "outputs": [
    {
     "name": "stdout",
     "output_type": "stream",
     "text": [
      "{'neg': 0.234, 'neu': 0.621, 'pos': 0.144, 'compound': -0.3818}\n"
     ]
    }
   ],
   "execution_count": 11
  },
  {
   "metadata": {
    "ExecuteTime": {
     "end_time": "2025-03-12T21:00:46.245386Z",
     "start_time": "2025-03-12T21:00:46.242009Z"
    }
   },
   "cell_type": "code",
   "source": "print(vader_sid.polarity_scores(sentence_3))",
   "id": "6388514cd4cd7fdf",
   "outputs": [
    {
     "name": "stdout",
     "output_type": "stream",
     "text": [
      "{'neg': 0.247, 'neu': 0.611, 'pos': 0.142, 'compound': -0.4387}\n"
     ]
    }
   ],
   "execution_count": 12
  },
  {
   "metadata": {
    "ExecuteTime": {
     "end_time": "2025-03-12T21:00:50.441586Z",
     "start_time": "2025-03-12T21:00:50.437584Z"
    }
   },
   "cell_type": "code",
   "source": "print(vader_sid.polarity_scores(sentence_4))",
   "id": "7097ada580d6cd90",
   "outputs": [
    {
     "name": "stdout",
     "output_type": "stream",
     "text": [
      "{'neg': 0.0, 'neu': 1.0, 'pos': 0.0, 'compound': 0.0}\n"
     ]
    }
   ],
   "execution_count": 13
  }
 ],
 "metadata": {
  "kernelspec": {
   "display_name": "Python 3",
   "language": "python",
   "name": "python3"
  },
  "language_info": {
   "codemirror_mode": {
    "name": "ipython",
    "version": 2
   },
   "file_extension": ".py",
   "mimetype": "text/x-python",
   "name": "python",
   "nbconvert_exporter": "python",
   "pygments_lexer": "ipython2",
   "version": "2.7.6"
  }
 },
 "nbformat": 4,
 "nbformat_minor": 5
}
